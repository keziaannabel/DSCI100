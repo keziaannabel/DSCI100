{
 "cells": [
  {
   "cell_type": "code",
   "execution_count": null,
   "id": "f81331f9-ce8c-4a2e-9c58-1a94b7a4c638",
   "metadata": {},
   "outputs": [],
   "source": [
    "library (tidyverse)\n",
    "library (repr)\n",
    "library (tidymodels)\n",
    "options (repr.matrix.rows = 6)"
   ]
  },
  {
   "cell_type": "markdown",
   "id": "75033143-8e69-4a7c-841e-5991259fa195",
   "metadata": {},
   "source": [
    "Notebook 1"
   ]
  },
  {
   "cell_type": "code",
   "execution_count": null,
   "id": "9768466d-8d21-494a-96a9-1b0383b8836b",
   "metadata": {},
   "outputs": [],
   "source": [
    "url_for_player <- \"https://raw.githubusercontent.com/keziaannabel/DSCI100/refs/heads/main/players_37600949.csv\"\n",
    "players_url <- read_csv(url_for_player)\n",
    "url_for_session <- \"https://raw.githubusercontent.com/keziaannabel/DSCI100/refs/heads/main/sessions_37600952.csv\"\n",
    "session_url <- read_csv(url_for_session) "
   ]
  },
  {
   "cell_type": "markdown",
   "id": "45e74ab5-1539-4f05-91ce-7c964bfe3d63",
   "metadata": {},
   "source": [
    "# (1) Data Description"
   ]
  },
  {
   "cell_type": "markdown",
   "id": "8ecd05ac-d3a6-4b48-83f3-b29d0137d8da",
   "metadata": {},
   "source": [
    "### Players"
   ]
  },
  {
   "cell_type": "markdown",
   "id": "218603ba-71fe-48bd-aa7f-09010750b1e4",
   "metadata": {},
   "source": [
    "The player dataset contain informations about individual players on Minecraft, with a total of 196 observations and 7 variables, which are : \n",
    "\n",
    "1. experience(chr) : player's level of experience (Pro, Amateur, Beginner, Veteran, Regular)\n",
    "2. subscribe(lgl) : (TRUE or False) stating whether the player subscribes to the server or not\n",
    "3. hashedEmail(chr) : stating player's hashed email\n",
    "4. played_hours(dbl) : the total hours player spend playing Minecraft\n",
    "5. name(chr) : stating player's name\n",
    "6. gender(chr) : player's gender\n",
    "7. age(dbl) : player's age (in years)\n",
    "\n",
    "chr = character, lgl = logical, dbl = double\n",
    "\n",
    "variable 7 in the player dataset (age) has an issue, since they are double fields, they should contain a number, but instead 2 observations contain NA values."
   ]
  },
  {
   "cell_type": "markdown",
   "id": "14ce7bba-8e60-4e54-b0b7-c71e37462fc8",
   "metadata": {},
   "source": [
    "### Session"
   ]
  },
  {
   "cell_type": "markdown",
   "id": "2933a9b8-495e-4483-b8b9-50cc567e0aef",
   "metadata": {},
   "source": [
    "The session dataset contain information about player's activity in the server, with 1535 observations and 5 variables. Those variables are : \n",
    "\n",
    "1. hashedEmail(chr) : containing player's hashed email\n",
    "2. start_time(chr) : session's start time, recorded as date string and time\n",
    "3. end_time(chr) : session's end time, recorded as date string and time\n",
    "4. original_start_time(dbl) : timestamp corresponding to start_time\n",
    "5. original_end_time(dbl) : timestamp corresponding to end_time"
   ]
  },
  {
   "cell_type": "markdown",
   "id": "dba8478a-82f3-44a9-af7d-db343ef6bea6",
   "metadata": {},
   "source": [
    "# (2) Question"
   ]
  },
  {
   "cell_type": "markdown",
   "id": "2f0255b6-3908-4892-a9b6-9848f5aa7d2a",
   "metadata": {},
   "source": [
    "The question that intrigued me the most and that i aim to answer is \"Which \"kinds\" of players are most likely to contribute a large amount of data so that we can target those players in our recruiting efforts?\""
   ]
  },
  {
   "cell_type": "markdown",
   "id": "80e86bc6-dc61-4b23-a1e8-961bbe93fe0b",
   "metadata": {},
   "source": [
    "### Response variable :"
   ]
  },
  {
   "cell_type": "markdown",
   "id": "67accb4e-0050-46e2-81ca-4d0c06d908a8",
   "metadata": {},
   "source": [
    "The response variable is played_hours\n",
    "\n",
    "This variable depends and affected by other variables. This variable is a direct measure of the player's contribution according to the amount of time they have spent on the server"
   ]
  },
  {
   "cell_type": "markdown",
   "id": "a0f39d30-8e77-4bba-9670-c0da25381f73",
   "metadata": {},
   "source": [
    "### Explanatory variable :"
   ]
  },
  {
   "cell_type": "markdown",
   "id": "8a1bc305-6087-4369-8a08-187563c3208a",
   "metadata": {},
   "source": [
    "The explanatory variables are : experience, subscribe, age, gender\n",
    "\n",
    "Explanatory variables explain and influence changes in the response variable. "
   ]
  },
  {
   "cell_type": "markdown",
   "id": "2244d56f-7ed4-44a8-9a17-bc79ee0a1d65",
   "metadata": {},
   "source": [
    "## Data Wrangling Plan"
   ]
  },
  {
   "cell_type": "markdown",
   "id": "14b8ed39-d80d-4a93-99ca-ad5d981b3cac",
   "metadata": {},
   "source": [
    "First thing we need to do before we analyze and work ont he data is to make the data tidy, and in a structured format. So, the things i will do are : \n",
    "\n",
    "1. Filter and Select Columns\n",
    "   - Filter all the missing values in the age variable\n",
    "   - Select the response and explanatory variables.\n",
    "2. Convert Data Types\n",
    "   - experience and gender should be categorical variables\n",
    "   - age and played_hours should also remain numeric\n",
    "3. Aggregate and Scale the Predictors\n",
    "   - scale the predictors to prevent a bias to the larger predictors"
   ]
  },
  {
   "cell_type": "markdown",
   "id": "c4411386-4ec0-4a3e-a3a8-353d9dd65498",
   "metadata": {},
   "source": [
    "# (3) Exploratory Data Analysis and Visualisation"
   ]
  },
  {
   "cell_type": "code",
   "execution_count": null,
   "id": "b92084a6-f520-43e6-84f4-78a3b5ca126a",
   "metadata": {},
   "outputs": [],
   "source": [
    "tidy_players <- players_url |>\n",
    "                select(experience, subscribe, gender, Age, played_hours) |>\n",
    "                mutate(experience = as_factor(experience)) |>\n",
    "                mutate(gender = as_factor(gender)) |>\n",
    "                filter(!is.na(Age))\n",
    "\n",
    "plot1 <- tidy_players |>\n",
    "         ggplot(aes (x = Age, y = played_hours, fill = gender)) +\n",
    "         geom_bar(stat = \"identity\") +\n",
    "         labs (x = \"Age (in years)\", y = \"Total Played (in Hours)\", fill = \"gender\", \n",
    "              title = \"Time Player Spent on the Server Vs Age\") + \n",
    "         theme (text = element_text (size = 17))\n",
    "\n",
    "plot2 <- tidy_players |>\n",
    "        ggplot(aes (x = experience, y = played_hours, color = subscribe)) +\n",
    "        geom_point() +\n",
    "        labs (x = \"Age (in years)\", y = \"Total Played (in Hours)\", color = \"gender\", \n",
    "              title = \"Time Player Spent on the Server Vs Age\") + \n",
    "        theme (text = element_text (size = 17))\n",
    "\n",
    "plot1\n",
    "plot2"
   ]
  },
  {
   "cell_type": "markdown",
   "id": "19ec9a20-c247-46a4-8aad-9656bcd9f5e2",
   "metadata": {},
   "source": [
    "1. Age vs Total Played Hours (bar plot)\n",
    "   - Shows total hours played by the players across different ages\n",
    "   - The fill color represent the genders\n",
    "   - It highlight trends by age and gender differences\n",
    "2. Age vs Total Played Hours (scatter plot)\n",
    "   - Shows the relationship between the player's experience and the total hours they play\n",
    "   - The color indicate subscription status, "
   ]
  },
  {
   "cell_type": "code",
   "execution_count": null,
   "id": "d2f424e8-f40d-43e3-89e4-d933f97a3d15",
   "metadata": {},
   "outputs": [],
   "source": []
  }
 ],
 "metadata": {
  "kernelspec": {
   "display_name": "R",
   "language": "R",
   "name": "ir"
  },
  "language_info": {
   "codemirror_mode": "r",
   "file_extension": ".r",
   "mimetype": "text/x-r-source",
   "name": "R",
   "pygments_lexer": "r",
   "version": "4.3.3"
  }
 },
 "nbformat": 4,
 "nbformat_minor": 5
}
