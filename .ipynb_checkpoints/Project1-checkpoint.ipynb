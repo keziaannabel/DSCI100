{
 "cells": [
  {
   "cell_type": "markdown",
   "id": "75033143-8e69-4a7c-841e-5991259fa195",
   "metadata": {},
   "source": [
    "Notebook 1"
   ]
  },
  {
   "cell_type": "code",
   "execution_count": 1,
   "id": "9768466d-8d21-494a-96a9-1b0383b8836b",
   "metadata": {},
   "outputs": [],
   "source": [
    "players_url <- (\"\")\n",
    "session_url <- (\"\") \n",
    "\n"
   ]
  },
  {
   "cell_type": "code",
   "execution_count": null,
   "id": "cc0ff047-0680-4ae2-a7ee-58604586d75c",
   "metadata": {},
   "outputs": [],
   "source": []
  }
 ],
 "metadata": {
  "kernelspec": {
   "display_name": "R",
   "language": "R",
   "name": "ir"
  },
  "language_info": {
   "codemirror_mode": "r",
   "file_extension": ".r",
   "mimetype": "text/x-r-source",
   "name": "R",
   "pygments_lexer": "r",
   "version": "4.3.3"
  }
 },
 "nbformat": 4,
 "nbformat_minor": 5
}
