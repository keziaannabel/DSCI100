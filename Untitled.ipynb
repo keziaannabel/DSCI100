{
 "cells": [
  {
   "cell_type": "markdown",
   "id": "75033143-8e69-4a7c-841e-5991259fa195",
   "metadata": {},
   "source": [
    "Notebook 1"
   ]
  }
 ],
 "metadata": {
  "kernelspec": {
   "display_name": "R",
   "language": "R",
   "name": "ir"
  },
  "language_info": {
   "codemirror_mode": "r",
   "file_extension": ".r",
   "mimetype": "text/x-r-source",
   "name": "R",
   "pygments_lexer": "r",
   "version": "4.3.3"
  }
 },
 "nbformat": 4,
 "nbformat_minor": 5
}
